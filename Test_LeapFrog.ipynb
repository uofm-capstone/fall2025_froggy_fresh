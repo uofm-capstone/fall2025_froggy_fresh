{
  "nbformat": 4,
  "nbformat_minor": 0,
  "metadata": {
    "colab": {
      "provenance": [],
      "gpuType": "T4"
    },
    "kernelspec": {
      "name": "python3",
      "display_name": "Python 3"
    },
    "language_info": {
      "name": "python"
    },
    "accelerator": "GPU"
  },
  "cells": [
    {
      "cell_type": "code",
      "execution_count": null,
      "metadata": {
        "colab": {
          "base_uri": "https://localhost:8080/"
        },
        "id": "A9Zqk-_hLae_",
        "outputId": "e74520ff-bf7f-453c-e396-f9be4f24503b"
      },
      "outputs": [
        {
          "output_type": "stream",
          "name": "stdout",
          "text": [
            "Mounted at /content/drive\n",
            "     Labels                                              Image\n",
            "0  Non-Frog  /content/drive/My Drive/dataset/Non-Frog/RCNX0...\n",
            "1  Non-Frog  /content/drive/My Drive/dataset/Non-Frog/RCNX0...\n",
            "2  Non-Frog  /content/drive/My Drive/dataset/Non-Frog/RCNX0...\n",
            "3  Non-Frog  /content/drive/My Drive/dataset/Non-Frog/RCNX0...\n",
            "4  Non-Frog  /content/drive/My Drive/dataset/Non-Frog/RCNX0...     Labels                                              Image\n",
            "501   Frog  /content/drive/My Drive/dataset/Frog/RCNX0246.JPG\n",
            "502   Frog  /content/drive/My Drive/dataset/Frog/RCNX0094.JPG\n",
            "503   Frog  /content/drive/My Drive/dataset/Frog/RCNX0244.JPG\n",
            "504   Frog  /content/drive/My Drive/dataset/Frog/RCNX0245.JPG\n",
            "505   Frog  /content/drive/My Drive/dataset/Frog/RCNX2144.JPG Labels\n",
            "Non-Frog    253\n",
            "Frog        253\n",
            "Name: count, dtype: int64\n",
            "(455, 224, 224, 3) (455, 2) (51, 224, 224, 3) (51, 2)\n"
          ]
        }
      ],
      "source": [
        "import numpy as np\n",
        "import tensorflow as tf\n",
        "import pandas as pd\n",
        "import matplotlib.pyplot as plt\n",
        "import os\n",
        "import cv2\n",
        "from google.colab import drive\n",
        "from sklearn.preprocessing import LabelEncoder, OneHotEncoder\n",
        "from sklearn.utils import shuffle\n",
        "from sklearn.model_selection import train_test_split\n",
        "\n",
        "# Mount Google Drive\n",
        "drive.mount('/content/drive')\n",
        "\n",
        "dataset_path = '/content/drive/My Drive/dataset'\n",
        "\n",
        "# Read dataset\n",
        "class_labels = []\n",
        "for item in os.listdir(dataset_path):\n",
        "    item_path = os.path.join(dataset_path, item)\n",
        "\n",
        "    if os.path.isdir(item_path):\n",
        "        image_count = 0\n",
        "        for image_name in os.listdir(item_path):\n",
        "            image_path = os.path.join(item_path, image_name)\n",
        "\n",
        "            if os.path.isfile(image_path):\n",
        "                if item == \"Non-Frog\" and image_count >= 253:\n",
        "                    continue\n",
        "                class_labels.append((item, image_path))  # Store full path\n",
        "                if item == \"Non-Frog\":\n",
        "                    image_count += 1\n",
        "\n",
        "# Convert to DataFrame\n",
        "df = pd.DataFrame(class_labels, columns=[\"Labels\", \"Image\"])\n",
        "print(df.head(), df.tail(), df['Labels'].value_counts())\n",
        "\n",
        "# Encode labels\n",
        "label_encoder = LabelEncoder()\n",
        "df['Labels'] = label_encoder.fit_transform(df['Labels'])\n",
        "\n",
        "# Load & resize images\n",
        "im_size = 224\n",
        "images = []\n",
        "labels = []\n",
        "\n",
        "for _, row in df.iterrows():\n",
        "    img = cv2.imread(row['Image'])\n",
        "    if img is not None:\n",
        "        img = cv2.resize(img, (im_size, im_size))\n",
        "        images.append(img)\n",
        "        labels.append(row['Labels'])\n",
        "\n",
        "images = np.array(images)\n",
        "labels = np.array(labels).reshape(-1, 1)\n",
        "\n",
        "# One-hot encode labels\n",
        "onehot_encoder = OneHotEncoder(sparse_output=False)\n",
        "Y = onehot_encoder.fit_transform(labels)\n",
        "\n",
        "# Shuffle & split dataset\n",
        "images, Y = shuffle(images, Y, random_state=1)\n",
        "x_train, x_test, y_train, y_test = train_test_split(images, Y, test_size=0.10, random_state=42)\n",
        "\n",
        "# Normalize after splitting\n",
        "x_train = x_train.astype('float32') / 255.0\n",
        "x_test = x_test.astype('float32') / 255.0\n",
        "\n",
        "print(x_train.shape, y_train.shape, x_test.shape, y_test.shape)\n"
      ]
    },
    {
      "cell_type": "code",
      "source": [
        "from tensorflow.keras import layers\n",
        "from tensorflow.keras.applications import EfficientNetB0\n",
        "\n",
        "NUM_CLASSES = 2\n",
        "IMG_SIZE = 224\n",
        "size = (IMG_SIZE, IMG_SIZE)\n",
        "\n",
        "inputs = layers.Input(shape=(IMG_SIZE, IMG_SIZE, 3))\n",
        "x = inputs\n",
        "\n",
        "# EfficientNetB0\n",
        "outputs = EfficientNetB0(include_top=True, weights=None, classes=NUM_CLASSES) (inputs)"
      ],
      "metadata": {
        "id": "DHAA2rCQMI2a"
      },
      "execution_count": null,
      "outputs": []
    },
    {
      "cell_type": "code",
      "source": [
        "model = tf.keras.Model(inputs, outputs)\n",
        "\n",
        "model.compile(\n",
        "    optimizer='adam',\n",
        "    loss='categorical_crossentropy',\n",
        "    metrics=['accuracy']\n",
        ")\n",
        "\n",
        "hist = model.fit(x_train, y_train, epochs=20, batch_size=16, validation_data=(x_test, y_test))"
      ],
      "metadata": {
        "colab": {
          "base_uri": "https://localhost:8080/"
        },
        "id": "c4HgF2RnMNFY",
        "outputId": "26a6e143-b2e8-4ccc-cec4-2b2bf14bdc05"
      },
      "execution_count": null,
      "outputs": [
        {
          "output_type": "stream",
          "name": "stdout",
          "text": [
            "Epoch 1/20\n",
            "\u001b[1m29/29\u001b[0m \u001b[32m━━━━━━━━━━━━━━━━━━━━\u001b[0m\u001b[37m\u001b[0m \u001b[1m134s\u001b[0m 2s/step - accuracy: 0.8430 - loss: 1.6529 - val_accuracy: 0.5686 - val_loss: 3.3075\n",
            "Epoch 2/20\n",
            "\u001b[1m29/29\u001b[0m \u001b[32m━━━━━━━━━━━━━━━━━━━━\u001b[0m\u001b[37m\u001b[0m \u001b[1m51s\u001b[0m 74ms/step - accuracy: 0.9157 - loss: 1.2443 - val_accuracy: 0.5686 - val_loss: 4.6872\n",
            "Epoch 3/20\n",
            "\u001b[1m29/29\u001b[0m \u001b[32m━━━━━━━━━━━━━━━━━━━━\u001b[0m\u001b[37m\u001b[0m \u001b[1m2s\u001b[0m 70ms/step - accuracy: 0.9195 - loss: 0.5864 - val_accuracy: 0.5686 - val_loss: 3.8601\n",
            "Epoch 4/20\n",
            "\u001b[1m29/29\u001b[0m \u001b[32m━━━━━━━━━━━━━━━━━━━━\u001b[0m\u001b[37m\u001b[0m \u001b[1m2s\u001b[0m 70ms/step - accuracy: 0.9710 - loss: 0.0679 - val_accuracy: 0.5686 - val_loss: 4.3158\n",
            "Epoch 5/20\n",
            "\u001b[1m29/29\u001b[0m \u001b[32m━━━━━━━━━━━━━━━━━━━━\u001b[0m\u001b[37m\u001b[0m \u001b[1m2s\u001b[0m 74ms/step - accuracy: 0.9808 - loss: 0.0708 - val_accuracy: 0.5686 - val_loss: 4.2251\n",
            "Epoch 6/20\n",
            "\u001b[1m29/29\u001b[0m \u001b[32m━━━━━━━━━━━━━━━━━━━━\u001b[0m\u001b[37m\u001b[0m \u001b[1m2s\u001b[0m 75ms/step - accuracy: 0.9838 - loss: 0.0475 - val_accuracy: 0.5686 - val_loss: 4.4347\n",
            "Epoch 7/20\n",
            "\u001b[1m29/29\u001b[0m \u001b[32m━━━━━━━━━━━━━━━━━━━━\u001b[0m\u001b[37m\u001b[0m \u001b[1m2s\u001b[0m 72ms/step - accuracy: 0.9797 - loss: 0.0773 - val_accuracy: 0.5686 - val_loss: 2.6879\n",
            "Epoch 8/20\n",
            "\u001b[1m29/29\u001b[0m \u001b[32m━━━━━━━━━━━━━━━━━━━━\u001b[0m\u001b[37m\u001b[0m \u001b[1m3s\u001b[0m 72ms/step - accuracy: 0.9799 - loss: 0.0475 - val_accuracy: 0.5686 - val_loss: 12.5441\n",
            "Epoch 9/20\n",
            "\u001b[1m29/29\u001b[0m \u001b[32m━━━━━━━━━━━━━━━━━━━━\u001b[0m\u001b[37m\u001b[0m \u001b[1m2s\u001b[0m 70ms/step - accuracy: 0.9774 - loss: 0.1286 - val_accuracy: 0.5686 - val_loss: 10.0537\n",
            "Epoch 10/20\n",
            "\u001b[1m29/29\u001b[0m \u001b[32m━━━━━━━━━━━━━━━━━━━━\u001b[0m\u001b[37m\u001b[0m \u001b[1m2s\u001b[0m 70ms/step - accuracy: 0.9949 - loss: 0.0362 - val_accuracy: 0.5686 - val_loss: 4.2453\n",
            "Epoch 11/20\n",
            "\u001b[1m29/29\u001b[0m \u001b[32m━━━━━━━━━━━━━━━━━━━━\u001b[0m\u001b[37m\u001b[0m \u001b[1m3s\u001b[0m 78ms/step - accuracy: 0.9732 - loss: 0.0844 - val_accuracy: 0.5686 - val_loss: 7.0287\n",
            "Epoch 12/20\n",
            "\u001b[1m29/29\u001b[0m \u001b[32m━━━━━━━━━━━━━━━━━━━━\u001b[0m\u001b[37m\u001b[0m \u001b[1m2s\u001b[0m 73ms/step - accuracy: 0.9810 - loss: 0.1094 - val_accuracy: 0.5686 - val_loss: 5.5929\n",
            "Epoch 13/20\n",
            "\u001b[1m29/29\u001b[0m \u001b[32m━━━━━━━━━━━━━━━━━━━━\u001b[0m\u001b[37m\u001b[0m \u001b[1m2s\u001b[0m 70ms/step - accuracy: 0.9959 - loss: 0.0285 - val_accuracy: 0.5686 - val_loss: 4.8567\n",
            "Epoch 14/20\n",
            "\u001b[1m29/29\u001b[0m \u001b[32m━━━━━━━━━━━━━━━━━━━━\u001b[0m\u001b[37m\u001b[0m \u001b[1m3s\u001b[0m 73ms/step - accuracy: 0.9701 - loss: 0.1038 - val_accuracy: 0.5686 - val_loss: 11.3491\n",
            "Epoch 15/20\n",
            "\u001b[1m29/29\u001b[0m \u001b[32m━━━━━━━━━━━━━━━━━━━━\u001b[0m\u001b[37m\u001b[0m \u001b[1m2s\u001b[0m 70ms/step - accuracy: 0.9853 - loss: 0.0326 - val_accuracy: 0.5686 - val_loss: 7.8091\n",
            "Epoch 16/20\n",
            "\u001b[1m29/29\u001b[0m \u001b[32m━━━━━━━━━━━━━━━━━━━━\u001b[0m\u001b[37m\u001b[0m \u001b[1m2s\u001b[0m 74ms/step - accuracy: 0.9759 - loss: 0.0985 - val_accuracy: 0.5686 - val_loss: 9.8567\n",
            "Epoch 17/20\n",
            "\u001b[1m29/29\u001b[0m \u001b[32m━━━━━━━━━━━━━━━━━━━━\u001b[0m\u001b[37m\u001b[0m \u001b[1m2s\u001b[0m 77ms/step - accuracy: 0.9850 - loss: 0.0689 - val_accuracy: 0.5686 - val_loss: 4.2442\n",
            "Epoch 18/20\n",
            "\u001b[1m29/29\u001b[0m \u001b[32m━━━━━━━━━━━━━━━━━━━━\u001b[0m\u001b[37m\u001b[0m \u001b[1m2s\u001b[0m 73ms/step - accuracy: 0.9948 - loss: 0.0149 - val_accuracy: 0.5686 - val_loss: 4.0137\n",
            "Epoch 19/20\n",
            "\u001b[1m29/29\u001b[0m \u001b[32m━━━━━━━━━━━━━━━━━━━━\u001b[0m\u001b[37m\u001b[0m \u001b[1m2s\u001b[0m 73ms/step - accuracy: 0.9933 - loss: 0.0150 - val_accuracy: 0.5686 - val_loss: 4.6989\n",
            "Epoch 20/20\n",
            "\u001b[1m29/29\u001b[0m \u001b[32m━━━━━━━━━━━━━━━━━━━━\u001b[0m\u001b[37m\u001b[0m \u001b[1m2s\u001b[0m 71ms/step - accuracy: 0.9945 - loss: 0.0167 - val_accuracy: 0.5686 - val_loss: 3.7865\n"
          ]
        }
      ]
    },
    {
      "cell_type": "code",
      "source": [
        "# Evaluate model\n",
        "test_loss, test_acc = model.evaluate(x_test, y_test)\n",
        "print(\"Test accuracy:\", test_acc)\n",
        "\n",
        "# Get predictions\n",
        "y_pred = np.argmax(model.predict(x_test), axis=1)\n",
        "y_true = np.argmax(y_test, axis=1)\n",
        "\n",
        "# Compute separate accuracy for frog (label 1) and non-frog (label 0)\n",
        "frog_correct = np.sum((y_pred == 1) & (y_true == 1))\n",
        "frog_total = np.sum(y_true == 1)\n",
        "non_frog_correct = np.sum((y_pred == 0) & (y_true == 0))\n",
        "non_frog_total = np.sum(y_true == 0)\n",
        "\n",
        "frog_accuracy = 100 * (frog_correct / frog_total) if frog_total > 0 else 0\n",
        "non_frog_accuracy = 100 * (non_frog_correct / non_frog_total) if non_frog_total > 0 else 0\n",
        "\n",
        "print(f\"Frog Accuracy: {frog_accuracy:.2f}%\")\n",
        "print(f\"Non-Frog Accuracy: {non_frog_accuracy:.2f}%\")"
      ],
      "metadata": {
        "colab": {
          "base_uri": "https://localhost:8080/"
        },
        "id": "5rNtynfCMQKz",
        "outputId": "cfea0695-683a-4138-ea03-ed2c4778ef53"
      },
      "execution_count": null,
      "outputs": [
        {
          "output_type": "stream",
          "name": "stdout",
          "text": [
            "\u001b[1m2/2\u001b[0m \u001b[32m━━━━━━━━━━━━━━━━━━━━\u001b[0m\u001b[37m\u001b[0m \u001b[1m12s\u001b[0m 5s/step - accuracy: 0.5666 - loss: 3.8219\n",
            "Test accuracy: 0.5686274766921997\n",
            "\u001b[1m2/2\u001b[0m \u001b[32m━━━━━━━━━━━━━━━━━━━━\u001b[0m\u001b[37m\u001b[0m \u001b[1m13s\u001b[0m 7s/step\n",
            "Frog Accuracy: 0.00%\n",
            "Non-Frog Accuracy: 100.00%\n"
          ]
        }
      ]
    }
  ]
}