{
  "nbformat": 4,
  "nbformat_minor": 0,
  "metadata": {
    "colab": {
      "provenance": [],
      "gpuType": "T4"
    },
    "kernelspec": {
      "name": "python3",
      "display_name": "Python 3"
    },
    "language_info": {
      "name": "python"
    },
    "accelerator": "GPU"
  },
  "cells": [
    {
      "cell_type": "code",
      "execution_count": 1,
      "metadata": {
        "id": "6tuiWvMSwvuB"
      },
      "outputs": [],
      "source": [
        "#importing necessary modules\n",
        "import numpy as np\n",
        "import tensorflow as tf\n",
        "import pandas as pd\n",
        "import matplotlib.pyplot as plt\n",
        "import os"
      ]
    },
    {
      "cell_type": "code",
      "source": [
        "#bringing the database from my google drive folder to this colab notebook.\n",
        "from google.colab import drive\n",
        "drive.mount('/content/drive')\n",
        "\n",
        "dataset_path = '/content/drive/My Drive/dataset'\n",
        "\n",
        "print(os.listdir(dataset_path))"
      ],
      "metadata": {
        "colab": {
          "base_uri": "https://localhost:8080/"
        },
        "id": "3tp4l9XMwyd1",
        "outputId": "9115ea18-c57a-47d8-d415-fc980bd8c1c4"
      },
      "execution_count": 2,
      "outputs": [
        {
          "output_type": "stream",
          "name": "stdout",
          "text": [
            "Mounted at /content/drive\n",
            "['Non-Frog', 'Frog']\n"
          ]
        }
      ]
    },
    {
      "cell_type": "code",
      "source": [
        "#making a list of labels with images\n",
        "class_labels = []\n",
        "\n",
        "for item in os.listdir(dataset_path):\n",
        "    item_path = os.path.join(dataset_path, item)\n",
        "\n",
        "    if os.path.isdir(item_path):\n",
        "        print(f\"Contents of {item}: {os.listdir(item_path)}\")\n",
        "\n",
        "        for image_name in os.listdir(item_path):\n",
        "            image_path = os.path.join(item_path, image_name)\n",
        "\n",
        "            if os.path.isfile(image_path):\n",
        "                class_labels.append((item, item + '/' + image_name))\n",
        "\n",
        "\n",
        "print(\"Sample class labels:\", class_labels[:130])"
      ],
      "metadata": {
        "colab": {
          "base_uri": "https://localhost:8080/"
        },
        "id": "au41MmjF_xbQ",
        "outputId": "c054786d-b402-493d-f8e8-2800a8c51755"
      },
      "execution_count": 3,
      "outputs": [
        {
          "output_type": "stream",
          "name": "stdout",
          "text": [
            "Contents of Non-Frog: ['RCNX0022.JPG', 'RCNX0018.JPG', 'RCNX0021.JPG', 'RCNX0017.JPG', 'RCNX0020.JPG', 'RCNX0019.JPG', 'RCNX0026.JPG', 'RCNX0028.JPG', 'RCNX0027.JPG', 'RCNX0025.JPG', 'RCNX0023.JPG', 'RCNX0024.JPG', 'RCNX0032.JPG', 'RCNX0034.JPG', 'RCNX0029.JPG', 'RCNX0030.JPG', 'RCNX0031.JPG', 'RCNX0033.JPG', 'RCNX0039.JPG', 'RCNX0035.JPG', 'RCNX0037.JPG', 'RCNX0036.JPG', 'RCNX0040.JPG', 'RCNX0038.JPG', 'RCNX0045.JPG', 'RCNX0046.JPG', 'RCNX0044.JPG', 'RCNX0043.JPG', 'RCNX0041.JPG', 'RCNX0042.JPG', 'RCNX0048.JPG', 'RCNX0051.JPG', 'RCNX0047.JPG', 'RCNX0049.JPG', 'RCNX0050.JPG', 'RCNX0052.JPG', 'RCNX0053.JPG', 'RCNX0056.JPG', 'RCNX0054.JPG', 'RCNX0058.JPG', 'RCNX0055.JPG', 'RCNX0057.JPG', 'RCNX0061.JPG', 'RCNX0060.JPG', 'RCNX0062.JPG', 'RCNX0063.JPG', 'RCNX0059.JPG', 'RCNX0064.JPG', 'RCNX0069.JPG', 'RCNX0066.JPG', 'RCNX0067.JPG', 'RCNX0070.JPG', 'RCNX0068.JPG', 'RCNX0065.JPG', 'RCNX0075.JPG', 'RCNX0071.JPG', 'RCNX0072.JPG', 'RCNX0074.JPG', 'RCNX0076.JPG', 'RCNX0073.JPG', 'RCNX0077.JPG', 'RCNX0080.JPG', 'RCNX0079.JPG', 'RCNX0082.JPG', 'RCNX0078.JPG', 'RCNX0081.JPG', 'RCNX0085.JPG', 'RCNX0087.JPG', 'RCNX0088.JPG', 'RCNX0083.JPG', 'RCNX0084.JPG', 'RCNX0086.JPG', 'RCNX0093.JPG', 'RCNX0090.JPG', 'RCNX0091.JPG', 'RCNX0089.JPG', 'RCNX0092.JPG', 'RCNX0100.JPG', 'RCNX0097.JPG', 'RCNX0098.JPG', 'RCNX0099.JPG', 'RCNX0101.JPG', 'RCNX0103.JPG', 'RCNX0106.JPG', 'RCNX0105.JPG', 'RCNX0104.JPG', 'RCNX0102.JPG', 'RCNX0112.JPG', 'RCNX0109.JPG', 'RCNX0110.JPG', 'RCNX0111.JPG', 'RCNX0108.JPG', 'RCNX0107.JPG', 'RCNX0116.JPG', 'RCNX0114.JPG', 'RCNX0118.JPG', 'RCNX0115.JPG', 'RCNX0113.JPG', 'RCNX0117.JPG', 'RCNX0121.JPG', 'RCNX0123.JPG', 'RCNX0124.JPG', 'RCNX0119.JPG', 'RCNX0120.JPG', 'RCNX0122.JPG', 'RCNX0128.JPG', 'RCNX0127.JPG', 'RCNX0129.JPG', 'RCNX0126.JPG', 'RCNX0130.JPG', 'RCNX0125.JPG', 'RCNX0136.JPG', 'RCNX0131.JPG', 'RCNX0134.JPG', 'RCNX0132.JPG', 'RCNX0133.JPG', 'RCNX0135.JPG', 'RCNX0138.JPG', 'RCNX0141.JPG', 'RCNX0139.JPG', 'RCNX0140.JPG', 'RCNX0142.JPG', 'RCNX0137.JPG', 'RCNX0143.JPG', 'RCNX0145.JPG', 'RCNX0144.JPG', 'RCNX0146.JPG', 'RCNX0147.JPG', 'RCNX0148.JPG', 'RCNX0150.JPG', 'RCNX0154.JPG', 'RCNX0153.JPG', 'RCNX0149.JPG', 'RCNX0151.JPG', 'RCNX0152.JPG', 'RCNX0155.JPG', 'RCNX0157.JPG', 'RCNX0160.JPG', 'RCNX0158.JPG', 'RCNX0159.JPG', 'RCNX0156.JPG', 'RCNX0165.JPG', 'RCNX0162.JPG', 'RCNX0163.JPG', 'RCNX0164.JPG', 'RCNX0161.JPG', 'RCNX0166.JPG', 'RCNX0169.JPG', 'RCNX0170.JPG', 'RCNX0167.JPG', 'RCNX0172.JPG', 'RCNX0171.JPG', 'RCNX0168.JPG', 'RCNX0175.JPG', 'RCNX0178.JPG', 'RCNX0177.JPG', 'RCNX0174.JPG', 'RCNX0173.JPG', 'RCNX0176.JPG', 'RCNX0179.JPG', 'RCNX0181.JPG', 'RCNX0180.JPG', 'RCNX0182.JPG', 'RCNX0183.JPG', 'RCNX0184.JPG', 'RCNX0186.JPG', 'RCNX0185.JPG', 'RCNX0188.JPG', 'RCNX0190.JPG', 'RCNX0189.JPG', 'RCNX0187.JPG', 'RCNX0193.JPG', 'RCNX0195.JPG', 'RCNX0192.JPG', 'RCNX0191.JPG', 'RCNX0196.JPG', 'RCNX0194.JPG', 'RCNX0198.JPG', 'RCNX0201.JPG', 'RCNX0199.JPG', 'RCNX0200.JPG', 'RCNX0197.JPG', 'RCNX0202.JPG', 'RCNX0204.JPG', 'RCNX0206.JPG', 'RCNX0205.JPG', 'RCNX0208.JPG', 'RCNX0203.JPG', 'RCNX0207.JPG', 'RCNX0210.JPG', 'RCNX0213.JPG', 'RCNX0209.JPG', 'RCNX0214.JPG', 'RCNX0212.JPG', 'RCNX0211.JPG', 'RCNX0218.JPG', 'RCNX0216.JPG', 'RCNX0217.JPG', 'RCNX0215.JPG', 'RCNX0220.JPG', 'RCNX0219.JPG', 'RCNX0226.JPG', 'RCNX0223.JPG', 'RCNX0225.JPG', 'RCNX0222.JPG', 'RCNX0224.JPG', 'RCNX0221.JPG', 'RCNX0230.JPG', 'RCNX0227.JPG', 'RCNX0232.JPG', 'RCNX0228.JPG', 'RCNX0229.JPG', 'RCNX0231.JPG', 'RCNX0237.JPG', 'RCNX0233.JPG', 'RCNX0234.JPG', 'RCNX0236.JPG', 'RCNX0235.JPG', 'RCNX0238.JPG', 'RCNX0240.JPG', 'RCNX0244.JPG', 'RCNX0239.JPG', 'RCNX0243.JPG', 'RCNX0241.JPG', 'RCNX0242.JPG', 'RCNX0248.JPG', 'RCNX0247.JPG', 'RCNX0249.JPG', 'RCNX0250.JPG', 'RCNX0246.JPG', 'RCNX0245.JPG', 'RCNX0254.JPG', 'RCNX0252.JPG', 'RCNX0251.JPG', 'RCNX0255.JPG', 'RCNX0253.JPG', 'RCNX0256.JPG', 'RCNX0260.JPG', 'RCNX0259.JPG', 'RCNX0262.JPG', 'RCNX0261.JPG', 'RCNX0258.JPG', 'RCNX0257.JPG', 'RCNX0267.JPG', 'RCNX0263.JPG', 'RCNX0265.JPG', 'RCNX0266.JPG', 'RCNX0264.JPG', 'RCNX0268.JPG', 'RCNX0270.JPG', 'RCNX0274.JPG', 'RCNX0269.JPG', 'RCNX0272.JPG', 'RCNX0271.JPG', 'RCNX0273.JPG', 'RCNX0275.JPG', 'RCNX0278.JPG', 'RCNX0277.JPG', 'RCNX0280.JPG', 'RCNX0276.JPG', 'RCNX0279.JPG', 'RCNX0284.JPG', 'RCNX0282.JPG', 'RCNX0285.JPG', 'RCNX0283.JPG', 'RCNX0281.JPG', 'RCNX0286.JPG', 'RCNX0287.JPG', 'RCNX0289.JPG', 'RCNX0292.JPG', 'RCNX0290.JPG', 'RCNX0291.JPG', 'RCNX0288.JPG', 'RCNX0293.JPG', 'RCNX0298.JPG', 'RCNX0295.JPG', 'RCNX0296.JPG', 'RCNX0294.JPG', 'RCNX0297.JPG', 'RCNX0302.JPG', 'RCNX0303.JPG', 'RCNX0299.JPG', 'RCNX0301.JPG', 'RCNX0300.JPG', 'RCNX0304.JPG', 'RCNX0306.JPG', 'RCNX0305.JPG', 'RCNX0310.JPG', 'RCNX0307.JPG', 'RCNX0308.JPG', 'RCNX0309.JPG', 'RCNX0313.JPG', 'RCNX0316.JPG', 'RCNX0312.JPG', 'RCNX0314.JPG', 'RCNX0315.JPG', 'RCNX0311.JPG', 'RCNX0320.JPG', 'RCNX0322.JPG', 'RCNX0317.JPG', 'RCNX0321.JPG', 'RCNX0319.JPG', 'RCNX0318.JPG', 'RCNX0328.JPG', 'RCNX0326.JPG', 'RCNX0323.JPG', 'RCNX0325.JPG', 'RCNX0324.JPG', 'RCNX0327.JPG', 'RCNX0332.JPG', 'RCNX0330.JPG', 'RCNX0329.JPG', 'RCNX0334.JPG', 'RCNX0333.JPG', 'RCNX0331.JPG', 'RCNX0337.JPG', 'RCNX0335.JPG', 'RCNX0340.JPG', 'RCNX0339.JPG', 'RCNX0338.JPG', 'RCNX0336.JPG', 'RCNX0343.JPG', 'RCNX0346.JPG', 'RCNX0344.JPG', 'RCNX0345.JPG', 'RCNX0342.JPG', 'RCNX0341.JPG', 'RCNX0352.JPG', 'RCNX0351.JPG', 'RCNX0347.JPG', 'RCNX0350.JPG', 'RCNX0348.JPG', 'RCNX0349.JPG', 'RCNX0012.JPG', 'RCNX0353.JPG', 'RCNX0009.JPG', 'RCNX0010.JPG', 'RCNX0011.JPG', 'RCNX0354.JPG', 'RCNX0014.JPG', 'RCNX0016.JPG', 'RCNX0013.JPG', 'RCNX0015.JPG']\n",
            "Contents of Frog: ['RCNX0069.JPG', 'RCNX0068.JPG', 'RCNX0067.JPG', 'RCNX0070.JPG', 'RCNX0089.JPG', 'RCNX0071.JPG', 'RCNX0076.JPG', 'RCNX0073.JPG', 'RCNX0074.JPG', 'RCNX0072.JPG', 'RCNX0077.JPG', 'RCNX0075.JPG', 'RCNX0082.JPG', 'RCNX0078.JPG', 'RCNX0079.JPG', 'RCNX0080.JPG', 'RCNX0083.JPG', 'RCNX0081.JPG', 'RCNX0340.JPG', 'RCNX0087.JPG', 'RCNX0088.JPG', 'RCNX0086.JPG', 'RCNX0085.JPG', 'RCNX0084.JPG', 'RCNX0647.JPG', 'RCNX0711.JPG', 'RCNX0645.JPG', 'RCNX0646.JPG', 'RCNX0648.JPG', 'RCNX0647 - Copy.JPG', 'RCNX0713.JPG', 'RCNX0714.JPG', 'RCNX0726.JPG', 'RCNX0715.JPG', 'RCNX0712.JPG', 'RCNX0725.JPG', 'RCNX0731.JPG', 'RCNX0733.JPG', 'RCNX0729.JPG', 'RCNX0728.JPG', 'RCNX0732.JPG', 'RCNX0727.JPG', 'RCNX0738.JPG', 'RCNX0737.JPG', 'RCNX0735.JPG', 'RCNX0739.JPG', 'RCNX0734.JPG', 'RCNX0736.JPG', 'RCNX0743.JPG', 'RCNX0740.JPG', 'RCNX0742.JPG', 'RCNX0745.JPG', 'RCNX0744.JPG', 'RCNX0741.JPG', 'RCNX0748.JPG', 'RCNX0750.JPG', 'RCNX0747.JPG', 'RCNX0751.JPG', 'RCNX0746.JPG', 'RCNX0749.JPG', 'RCNX0754.JPG', 'RCNX0756.JPG', 'RCNX0752.JPG', 'RCNX0753.JPG', 'RCNX0757.JPG', 'RCNX0755.JPG', 'RCNX1600.JPG', 'RCNX1599.JPG', 'RCNX1598.JPG', 'RCNX0760.JPG', 'RCNX0758.JPG', 'RCNX0759.JPG', 'RCNX1604.JPG', 'RCNX1610.JPG', 'RCNX1601.JPG', 'RCNX1603.JPG', 'RCNX1602.JPG', 'RCNX1605.JPG', 'RCNX1875 - Copy.JPG', 'RCNX1876 - Copy.JPG', 'RCNX1877 - Copy.JPG', 'RCNX1872 - Copy.JPG', 'RCNX1874 - Copy.JPG', 'RCNX1873 - Copy.JPG', 'RCNX1882 - Copy.JPG', 'RCNX1878 - Copy.JPG', 'RCNX1883 - Copy.JPG', 'RCNX1880 - Copy.JPG', 'RCNX1881 - Copy.JPG', 'RCNX1879 - Copy.JPG', 'RCNX2145.JPG', 'RCNX1884 - Copy.JPG', 'RCNX2499 - Copy.JPG', 'RCNX2147.JPG', 'RCNX2143.JPG', 'RCNX2502 - Copy.JPG', 'RCNX2501 - Copy.JPG', 'RCNX2500 - Copy.JPG', 'RCNX2504 - Copy.JPG', 'RCNX2503 - Copy.JPG', 'RCNX2508 - Copy.JPG', 'RCNX2507 - Copy.JPG', 'RCNX2505 - Copy.JPG', 'RCNX2509 - Copy.JPG', 'RCNX2506 - Copy.JPG', 'RCNX2514 - Copy.JPG', 'RCNX2510 - Copy.JPG', 'RCNX2511 - Copy.JPG', 'RCNX2513 - Copy.JPG', 'RCNX2512 - Copy.JPG', 'RCNX2519 - Copy.JPG', 'RCNX2518 - Copy.JPG', 'RCNX2516 - Copy.JPG', 'RCNX2515 - Copy.JPG', 'RCNX2517 - Copy.JPG', 'RCNX2524 - Copy.JPG', 'RCNX2521 - Copy.JPG', 'RCNX2523 - Copy.JPG', 'RCNX2522 - Copy.JPG', 'RCNX2520 - Copy.JPG', 'RCNX2528 - Copy.JPG', 'RCNX2529 - Copy.JPG', 'RCNX2526 - Copy.JPG', 'RCNX2527 - Copy.JPG', 'RCNX2525 - Copy.JPG', 'RCNX2530 - Copy.JPG', 'RCNX2533 - Copy.JPG', 'RCNX2531 - Copy.JPG', 'RCNX2534 - Copy.JPG', 'RCNX2532 - Copy.JPG', 'RCNX2538 - Copy.JPG', 'RCNX2535 - Copy.JPG', 'RCNX2536 - Copy.JPG', 'RCNX2537 - Copy.JPG', 'RCNX2539 - Copy.JPG', 'RCNX2540 - Copy.JPG', 'RCNX2541 - Copy.JPG', 'RCNX2543 - Copy.JPG', 'RCNX2544 - Copy.JPG', 'RCNX2542 - Copy.JPG', 'RCNX2903.JPG', 'RCNX2902.JPG', 'RCNX2905.JPG', 'RCNX2904.JPG', 'RCNX2906.JPG', 'RCNX2909.JPG', 'RCNX2910.JPG', 'RCNX2911.JPG', 'RCNX2908.JPG', 'RCNX2907.JPG', 'RCNX2912.JPG', 'RCNX2935.JPG', 'RCNX3527.JPG', 'RCNX2936.JPG', 'RCNX3528.JPG', 'RCNX3529.JPG', 'RCNX6351.JPG', 'RCNX5118.JPG', 'RCNX5117.JPG', 'RCNX6350.JPG', 'RCNX6355.JPG', 'RCNX6356.JPG', 'RCNX6353.JPG', 'RCNX6352.JPG', 'RCNX6354.JPG', 'RCNX7853.JPG', 'RCNX7854.JPG', 'RCNX6358.JPG', 'RCNX7855.JPG', 'RCNX6357.JPG', 'RCNX0111.JPG', 'RCNX7856.JPG', 'RCNX7858.JPG', 'RCNX7859.JPG', 'RCNX7857.JPG', 'RCNX0006.JPG', 'RCNX0007.JPG', 'RCNX0005.JPG', 'RCNX0004.JPG', 'RCNX0020.JPG', 'RCNX0008.JPG', 'RCNX0009.JPG', 'RCNX0010.JPG', 'RCNX0011.JPG', 'RCNX0012.JPG', 'RCNX0015.JPG', 'RCNX0017.JPG', 'RCNX0016.JPG', 'RCNX0013.JPG', 'RCNX0014.JPG', 'RCNX0029.JPG', 'RCNX0018.JPG', 'RCNX0028.JPG', 'RCNX0033.JPG', 'RCNX0019.JPG', 'RCNX0015 (2).JPG', 'RCNX0030.JPG', 'RCNX0031.JPG', 'RCNX0032.JPG', 'RCNX0015 (3).JPG', 'RCNX0011 (2).JPG', 'RCNX0013 (2).JPG', 'RCNX0014 (2).JPG', 'RCNX0071 (2).JPG', 'RCNX0012 (2).JPG', 'RCNX0442.JPG', 'RCNX0444.JPG', 'RCNX0222.JPG', 'RCNX0221.JPG', 'RCNX0220.JPG', 'RCNX1001.JPG', 'RCNX0993.JPG', 'RCNX0443.JPG', 'RCNX0992.JPG', 'RCNX0991.JPG', 'RCNX1000.JPG', 'RCNX0998.JPG', 'RCNX0999.JPG', 'RCNX0997.JPG', 'RCNX1050.JPG', 'RCNX1043.JPG', 'RCNX1042.JPG', 'RCNX1044.JPG', 'RCNX1046.JPG', 'RCNX1045.JPG', 'RCNX1049.JPG', 'RCNX1048.JPG', 'RCNX1060.JPG', 'RCNX1047.JPG', 'RCNX1062.JPG', 'RCNX1342.JPG', 'RCNX1344.JPG', 'RCNX1061.JPG', 'RCNX1343.JPG', 'RCNX0081 (2).JPG', 'RCNX0080 (2).JPG', 'RCNX0032 (2).JPG', 'RCNX0079 (2).JPG', 'RCNX0031 (2).JPG', 'RCNX0033 (2).JPG', 'RCNX0048.JPG', 'RCNX0046.JPG', 'RCNX0042.JPG', 'RCNX0041.JPG', 'RCNX0040.JPG', 'RCNX0095.JPG', 'RCNX0047.JPG', 'RCNX0096.JPG', 'RCNX0246.JPG', 'RCNX0094.JPG', 'RCNX0244.JPG', 'RCNX0245.JPG', 'RCNX2144.JPG']\n",
            "Sample class labels: [('Non-Frog', 'Non-Frog/RCNX0022.JPG'), ('Non-Frog', 'Non-Frog/RCNX0018.JPG'), ('Non-Frog', 'Non-Frog/RCNX0021.JPG'), ('Non-Frog', 'Non-Frog/RCNX0017.JPG'), ('Non-Frog', 'Non-Frog/RCNX0020.JPG'), ('Non-Frog', 'Non-Frog/RCNX0019.JPG'), ('Non-Frog', 'Non-Frog/RCNX0026.JPG'), ('Non-Frog', 'Non-Frog/RCNX0028.JPG'), ('Non-Frog', 'Non-Frog/RCNX0027.JPG'), ('Non-Frog', 'Non-Frog/RCNX0025.JPG'), ('Non-Frog', 'Non-Frog/RCNX0023.JPG'), ('Non-Frog', 'Non-Frog/RCNX0024.JPG'), ('Non-Frog', 'Non-Frog/RCNX0032.JPG'), ('Non-Frog', 'Non-Frog/RCNX0034.JPG'), ('Non-Frog', 'Non-Frog/RCNX0029.JPG'), ('Non-Frog', 'Non-Frog/RCNX0030.JPG'), ('Non-Frog', 'Non-Frog/RCNX0031.JPG'), ('Non-Frog', 'Non-Frog/RCNX0033.JPG'), ('Non-Frog', 'Non-Frog/RCNX0039.JPG'), ('Non-Frog', 'Non-Frog/RCNX0035.JPG'), ('Non-Frog', 'Non-Frog/RCNX0037.JPG'), ('Non-Frog', 'Non-Frog/RCNX0036.JPG'), ('Non-Frog', 'Non-Frog/RCNX0040.JPG'), ('Non-Frog', 'Non-Frog/RCNX0038.JPG'), ('Non-Frog', 'Non-Frog/RCNX0045.JPG'), ('Non-Frog', 'Non-Frog/RCNX0046.JPG'), ('Non-Frog', 'Non-Frog/RCNX0044.JPG'), ('Non-Frog', 'Non-Frog/RCNX0043.JPG'), ('Non-Frog', 'Non-Frog/RCNX0041.JPG'), ('Non-Frog', 'Non-Frog/RCNX0042.JPG'), ('Non-Frog', 'Non-Frog/RCNX0048.JPG'), ('Non-Frog', 'Non-Frog/RCNX0051.JPG'), ('Non-Frog', 'Non-Frog/RCNX0047.JPG'), ('Non-Frog', 'Non-Frog/RCNX0049.JPG'), ('Non-Frog', 'Non-Frog/RCNX0050.JPG'), ('Non-Frog', 'Non-Frog/RCNX0052.JPG'), ('Non-Frog', 'Non-Frog/RCNX0053.JPG'), ('Non-Frog', 'Non-Frog/RCNX0056.JPG'), ('Non-Frog', 'Non-Frog/RCNX0054.JPG'), ('Non-Frog', 'Non-Frog/RCNX0058.JPG'), ('Non-Frog', 'Non-Frog/RCNX0055.JPG'), ('Non-Frog', 'Non-Frog/RCNX0057.JPG'), ('Non-Frog', 'Non-Frog/RCNX0061.JPG'), ('Non-Frog', 'Non-Frog/RCNX0060.JPG'), ('Non-Frog', 'Non-Frog/RCNX0062.JPG'), ('Non-Frog', 'Non-Frog/RCNX0063.JPG'), ('Non-Frog', 'Non-Frog/RCNX0059.JPG'), ('Non-Frog', 'Non-Frog/RCNX0064.JPG'), ('Non-Frog', 'Non-Frog/RCNX0069.JPG'), ('Non-Frog', 'Non-Frog/RCNX0066.JPG'), ('Non-Frog', 'Non-Frog/RCNX0067.JPG'), ('Non-Frog', 'Non-Frog/RCNX0070.JPG'), ('Non-Frog', 'Non-Frog/RCNX0068.JPG'), ('Non-Frog', 'Non-Frog/RCNX0065.JPG'), ('Non-Frog', 'Non-Frog/RCNX0075.JPG'), ('Non-Frog', 'Non-Frog/RCNX0071.JPG'), ('Non-Frog', 'Non-Frog/RCNX0072.JPG'), ('Non-Frog', 'Non-Frog/RCNX0074.JPG'), ('Non-Frog', 'Non-Frog/RCNX0076.JPG'), ('Non-Frog', 'Non-Frog/RCNX0073.JPG'), ('Non-Frog', 'Non-Frog/RCNX0077.JPG'), ('Non-Frog', 'Non-Frog/RCNX0080.JPG'), ('Non-Frog', 'Non-Frog/RCNX0079.JPG'), ('Non-Frog', 'Non-Frog/RCNX0082.JPG'), ('Non-Frog', 'Non-Frog/RCNX0078.JPG'), ('Non-Frog', 'Non-Frog/RCNX0081.JPG'), ('Non-Frog', 'Non-Frog/RCNX0085.JPG'), ('Non-Frog', 'Non-Frog/RCNX0087.JPG'), ('Non-Frog', 'Non-Frog/RCNX0088.JPG'), ('Non-Frog', 'Non-Frog/RCNX0083.JPG'), ('Non-Frog', 'Non-Frog/RCNX0084.JPG'), ('Non-Frog', 'Non-Frog/RCNX0086.JPG'), ('Non-Frog', 'Non-Frog/RCNX0093.JPG'), ('Non-Frog', 'Non-Frog/RCNX0090.JPG'), ('Non-Frog', 'Non-Frog/RCNX0091.JPG'), ('Non-Frog', 'Non-Frog/RCNX0089.JPG'), ('Non-Frog', 'Non-Frog/RCNX0092.JPG'), ('Non-Frog', 'Non-Frog/RCNX0100.JPG'), ('Non-Frog', 'Non-Frog/RCNX0097.JPG'), ('Non-Frog', 'Non-Frog/RCNX0098.JPG'), ('Non-Frog', 'Non-Frog/RCNX0099.JPG'), ('Non-Frog', 'Non-Frog/RCNX0101.JPG'), ('Non-Frog', 'Non-Frog/RCNX0103.JPG'), ('Non-Frog', 'Non-Frog/RCNX0106.JPG'), ('Non-Frog', 'Non-Frog/RCNX0105.JPG'), ('Non-Frog', 'Non-Frog/RCNX0104.JPG'), ('Non-Frog', 'Non-Frog/RCNX0102.JPG'), ('Non-Frog', 'Non-Frog/RCNX0112.JPG'), ('Non-Frog', 'Non-Frog/RCNX0109.JPG'), ('Non-Frog', 'Non-Frog/RCNX0110.JPG'), ('Non-Frog', 'Non-Frog/RCNX0111.JPG'), ('Non-Frog', 'Non-Frog/RCNX0108.JPG'), ('Non-Frog', 'Non-Frog/RCNX0107.JPG'), ('Non-Frog', 'Non-Frog/RCNX0116.JPG'), ('Non-Frog', 'Non-Frog/RCNX0114.JPG'), ('Non-Frog', 'Non-Frog/RCNX0118.JPG'), ('Non-Frog', 'Non-Frog/RCNX0115.JPG'), ('Non-Frog', 'Non-Frog/RCNX0113.JPG'), ('Non-Frog', 'Non-Frog/RCNX0117.JPG'), ('Non-Frog', 'Non-Frog/RCNX0121.JPG'), ('Non-Frog', 'Non-Frog/RCNX0123.JPG'), ('Non-Frog', 'Non-Frog/RCNX0124.JPG'), ('Non-Frog', 'Non-Frog/RCNX0119.JPG'), ('Non-Frog', 'Non-Frog/RCNX0120.JPG'), ('Non-Frog', 'Non-Frog/RCNX0122.JPG'), ('Non-Frog', 'Non-Frog/RCNX0128.JPG'), ('Non-Frog', 'Non-Frog/RCNX0127.JPG'), ('Non-Frog', 'Non-Frog/RCNX0129.JPG'), ('Non-Frog', 'Non-Frog/RCNX0126.JPG'), ('Non-Frog', 'Non-Frog/RCNX0130.JPG'), ('Non-Frog', 'Non-Frog/RCNX0125.JPG'), ('Non-Frog', 'Non-Frog/RCNX0136.JPG'), ('Non-Frog', 'Non-Frog/RCNX0131.JPG'), ('Non-Frog', 'Non-Frog/RCNX0134.JPG'), ('Non-Frog', 'Non-Frog/RCNX0132.JPG'), ('Non-Frog', 'Non-Frog/RCNX0133.JPG'), ('Non-Frog', 'Non-Frog/RCNX0135.JPG'), ('Non-Frog', 'Non-Frog/RCNX0138.JPG'), ('Non-Frog', 'Non-Frog/RCNX0141.JPG'), ('Non-Frog', 'Non-Frog/RCNX0139.JPG'), ('Non-Frog', 'Non-Frog/RCNX0140.JPG'), ('Non-Frog', 'Non-Frog/RCNX0142.JPG'), ('Non-Frog', 'Non-Frog/RCNX0137.JPG'), ('Non-Frog', 'Non-Frog/RCNX0143.JPG'), ('Non-Frog', 'Non-Frog/RCNX0145.JPG'), ('Non-Frog', 'Non-Frog/RCNX0144.JPG'), ('Non-Frog', 'Non-Frog/RCNX0146.JPG'), ('Non-Frog', 'Non-Frog/RCNX0147.JPG'), ('Non-Frog', 'Non-Frog/RCNX0148.JPG'), ('Non-Frog', 'Non-Frog/RCNX0150.JPG')]\n"
          ]
        }
      ]
    },
    {
      "cell_type": "code",
      "source": [
        "#Build a DataFrame\n",
        "\n",
        "df = pd.DataFrame(data=class_labels, columns=[\"Labels\", \"Image\"])\n",
        "print(df.head())\n",
        "print(df.tail())"
      ],
      "metadata": {
        "colab": {
          "base_uri": "https://localhost:8080/"
        },
        "id": "37Op9eFe4LBg",
        "outputId": "cb75d7a7-3c51-481e-dfc2-f409fe82d94e"
      },
      "execution_count": 4,
      "outputs": [
        {
          "output_type": "stream",
          "name": "stdout",
          "text": [
            "     Labels                  Image\n",
            "0  Non-Frog  Non-Frog/RCNX0022.JPG\n",
            "1  Non-Frog  Non-Frog/RCNX0018.JPG\n",
            "2  Non-Frog  Non-Frog/RCNX0021.JPG\n",
            "3  Non-Frog  Non-Frog/RCNX0017.JPG\n",
            "4  Non-Frog  Non-Frog/RCNX0020.JPG\n",
            "    Labels              Image\n",
            "591   Frog  Frog/RCNX0246.JPG\n",
            "592   Frog  Frog/RCNX0094.JPG\n",
            "593   Frog  Frog/RCNX0244.JPG\n",
            "594   Frog  Frog/RCNX0245.JPG\n",
            "595   Frog  Frog/RCNX2144.JPG\n"
          ]
        }
      ]
    },
    {
      "cell_type": "code",
      "source": [
        "print(f'Total number in dataset: {len(df)}')\n",
        "\n",
        "label_counts = df['Labels'].value_counts()\n",
        "print(label_counts)"
      ],
      "metadata": {
        "colab": {
          "base_uri": "https://localhost:8080/"
        },
        "id": "frowqhif-UlU",
        "outputId": "e98bd00f-df76-4671-e6fc-6cc57c6196c2"
      },
      "execution_count": 5,
      "outputs": [
        {
          "output_type": "stream",
          "name": "stdout",
          "text": [
            "Total number in dataset: 596\n",
            "Labels\n",
            "Non-Frog    343\n",
            "Frog        253\n",
            "Name: count, dtype: int64\n"
          ]
        }
      ]
    },
    {
      "cell_type": "code",
      "source": [
        "#going through each image and resizing\n",
        "import cv2\n",
        "\n",
        "im_size = 224\n",
        "\n",
        "images = []\n",
        "labels = []\n",
        "\n",
        "for i in os.listdir(dataset_path):\n",
        "  data_path = dataset_path + '/' + i\n",
        "  filenames = []\n",
        "  for a in os.listdir(data_path):\n",
        "    filenames.append(a)\n",
        "\n",
        "  for f in filenames:\n",
        "      img = cv2.imread(f'{data_path}/{f}')\n",
        "      img = cv2.resize(img, (im_size, im_size))\n",
        "      images.append(img)\n",
        "      labels.append(i)"
      ],
      "metadata": {
        "id": "UAZJSc3KDIXC"
      },
      "execution_count": 6,
      "outputs": []
    },
    {
      "cell_type": "code",
      "source": [
        "#making input data value range from [0, 255]\n",
        "images = np.array(images)\n",
        "\n",
        "images = images.astype('float32') / 255.0\n",
        "images.shape"
      ],
      "metadata": {
        "colab": {
          "base_uri": "https://localhost:8080/"
        },
        "id": "mKaB4qRpCmrv",
        "outputId": "ecafcf1a-8d76-4409-cd1b-d3dde708ed1f"
      },
      "execution_count": 7,
      "outputs": [
        {
          "output_type": "execute_result",
          "data": {
            "text/plain": [
              "(596, 224, 224, 3)"
            ]
          },
          "metadata": {},
          "execution_count": 7
        }
      ]
    },
    {
      "cell_type": "code",
      "source": [
        "#transforming from Frog vs Non Frog to 1s and 0s\n",
        "from sklearn.preprocessing import LabelEncoder, OneHotEncoder\n",
        "y=df['Labels'].values\n",
        "\n",
        "y_labelencoder = LabelEncoder ()\n",
        "y = y_labelencoder.fit_transform (y)\n",
        "print (y)\n"
      ],
      "metadata": {
        "colab": {
          "base_uri": "https://localhost:8080/"
        },
        "id": "83xRwAcJTDVJ",
        "outputId": "2bf902d9-31e9-47fb-86c7-ce6fa21a150f"
      },
      "execution_count": 8,
      "outputs": [
        {
          "output_type": "stream",
          "name": "stdout",
          "text": [
            "[1 1 1 1 1 1 1 1 1 1 1 1 1 1 1 1 1 1 1 1 1 1 1 1 1 1 1 1 1 1 1 1 1 1 1 1 1\n",
            " 1 1 1 1 1 1 1 1 1 1 1 1 1 1 1 1 1 1 1 1 1 1 1 1 1 1 1 1 1 1 1 1 1 1 1 1 1\n",
            " 1 1 1 1 1 1 1 1 1 1 1 1 1 1 1 1 1 1 1 1 1 1 1 1 1 1 1 1 1 1 1 1 1 1 1 1 1\n",
            " 1 1 1 1 1 1 1 1 1 1 1 1 1 1 1 1 1 1 1 1 1 1 1 1 1 1 1 1 1 1 1 1 1 1 1 1 1\n",
            " 1 1 1 1 1 1 1 1 1 1 1 1 1 1 1 1 1 1 1 1 1 1 1 1 1 1 1 1 1 1 1 1 1 1 1 1 1\n",
            " 1 1 1 1 1 1 1 1 1 1 1 1 1 1 1 1 1 1 1 1 1 1 1 1 1 1 1 1 1 1 1 1 1 1 1 1 1\n",
            " 1 1 1 1 1 1 1 1 1 1 1 1 1 1 1 1 1 1 1 1 1 1 1 1 1 1 1 1 1 1 1 1 1 1 1 1 1\n",
            " 1 1 1 1 1 1 1 1 1 1 1 1 1 1 1 1 1 1 1 1 1 1 1 1 1 1 1 1 1 1 1 1 1 1 1 1 1\n",
            " 1 1 1 1 1 1 1 1 1 1 1 1 1 1 1 1 1 1 1 1 1 1 1 1 1 1 1 1 1 1 1 1 1 1 1 1 1\n",
            " 1 1 1 1 1 1 1 1 1 1 0 0 0 0 0 0 0 0 0 0 0 0 0 0 0 0 0 0 0 0 0 0 0 0 0 0 0\n",
            " 0 0 0 0 0 0 0 0 0 0 0 0 0 0 0 0 0 0 0 0 0 0 0 0 0 0 0 0 0 0 0 0 0 0 0 0 0\n",
            " 0 0 0 0 0 0 0 0 0 0 0 0 0 0 0 0 0 0 0 0 0 0 0 0 0 0 0 0 0 0 0 0 0 0 0 0 0\n",
            " 0 0 0 0 0 0 0 0 0 0 0 0 0 0 0 0 0 0 0 0 0 0 0 0 0 0 0 0 0 0 0 0 0 0 0 0 0\n",
            " 0 0 0 0 0 0 0 0 0 0 0 0 0 0 0 0 0 0 0 0 0 0 0 0 0 0 0 0 0 0 0 0 0 0 0 0 0\n",
            " 0 0 0 0 0 0 0 0 0 0 0 0 0 0 0 0 0 0 0 0 0 0 0 0 0 0 0 0 0 0 0 0 0 0 0 0 0\n",
            " 0 0 0 0 0 0 0 0 0 0 0 0 0 0 0 0 0 0 0 0 0 0 0 0 0 0 0 0 0 0 0 0 0 0 0 0 0\n",
            " 0 0 0 0]\n"
          ]
        }
      ]
    },
    {
      "cell_type": "code",
      "source": [
        "#further reformatting to make it true / false for each image\n",
        "y=y.reshape(-1,1)\n",
        "\n",
        "from sklearn.compose import ColumnTransformer\n",
        "ct = ColumnTransformer([('my_ohe', OneHotEncoder(), [0])], remainder='passthrough')\n",
        "Y = ct.fit_transform(y) #.toarray()\n",
        "print(Y[1])\n",
        "print(Y[-1])"
      ],
      "metadata": {
        "colab": {
          "base_uri": "https://localhost:8080/"
        },
        "id": "_svnDzMOUN9A",
        "outputId": "95c37c30-299d-45ca-a5b3-c256878bc9ed"
      },
      "execution_count": 9,
      "outputs": [
        {
          "output_type": "stream",
          "name": "stdout",
          "text": [
            "[0. 1.]\n",
            "[1. 0.]\n"
          ]
        }
      ]
    },
    {
      "cell_type": "code",
      "source": [
        "#shuffling and putting data in variables\n",
        "from sklearn.utils import shuffle\n",
        "from sklearn.model_selection import train_test_split\n",
        "\n",
        "images, Y = shuffle(images, Y, random_state=1)\n",
        "\n",
        "x_train, x_test, y_train, y_test = train_test_split(images, Y, test_size=0.10, random_state=42)\n",
        "\n",
        "print(x_train.shape)\n",
        "print(y_train.shape)\n",
        "print(x_test.shape)\n",
        "print(y_test.shape)"
      ],
      "metadata": {
        "colab": {
          "base_uri": "https://localhost:8080/"
        },
        "id": "5EnQvqwBUdAe",
        "outputId": "daa30a4e-070f-45e5-b983-5f2793af26d4"
      },
      "execution_count": 10,
      "outputs": [
        {
          "output_type": "stream",
          "name": "stdout",
          "text": [
            "(536, 224, 224, 3)\n",
            "(536, 2)\n",
            "(60, 224, 224, 3)\n",
            "(60, 2)\n"
          ]
        }
      ]
    },
    {
      "cell_type": "markdown",
      "source": [
        "# **EFFICIENTNET**"
      ],
      "metadata": {
        "id": "r-33M6BUV6mq"
      }
    },
    {
      "cell_type": "code",
      "source": [
        "from tensorflow.keras import layers\n",
        "from tensorflow.keras.applications import EfficientNetB0\n",
        "\n",
        "NUM_CLASSES = 2\n",
        "IMG_SIZE = 224\n",
        "size = (IMG_SIZE, IMG_SIZE)\n",
        "\n",
        "inputs = layers.Input(shape=(IMG_SIZE, IMG_SIZE, 3))\n",
        "x = inputs\n",
        "\n",
        "# EfficientNetB0\n",
        "outputs = EfficientNetB0(include_top=True, weights=None, classes=NUM_CLASSES) (inputs)"
      ],
      "metadata": {
        "id": "rh6d9BpDV-Q0"
      },
      "execution_count": 11,
      "outputs": []
    },
    {
      "cell_type": "code",
      "source": [
        "model = tf.keras.Model(inputs, outputs)\n",
        "\n",
        "model.compile(\n",
        "    optimizer='adam',\n",
        "    loss='categorical_crossentropy',\n",
        "    metrics=['accuracy']\n",
        ")\n",
        "\n",
        "model.summary()\n",
        "\n",
        "hist = model.fit(x_train, y_train, epochs=20, batch_size=16, validation_data=(x_test, y_test))\n",
        "\n"
      ],
      "metadata": {
        "colab": {
          "base_uri": "https://localhost:8080/",
          "height": 873
        },
        "id": "JTAyn4ioxzS6",
        "outputId": "bca56235-b99b-4af0-caa7-7c7092e345f6"
      },
      "execution_count": 15,
      "outputs": [
        {
          "output_type": "display_data",
          "data": {
            "text/plain": [
              "\u001b[1mModel: \"functional_1\"\u001b[0m\n"
            ],
            "text/html": [
              "<pre style=\"white-space:pre;overflow-x:auto;line-height:normal;font-family:Menlo,'DejaVu Sans Mono',consolas,'Courier New',monospace\"><span style=\"font-weight: bold\">Model: \"functional_1\"</span>\n",
              "</pre>\n"
            ]
          },
          "metadata": {}
        },
        {
          "output_type": "display_data",
          "data": {
            "text/plain": [
              "┏━━━━━━━━━━━━━━━━━━━━━━━━━━━━━━━━━━━━━━┳━━━━━━━━━━━━━━━━━━━━━━━━━━━━━┳━━━━━━━━━━━━━━━━━┓\n",
              "┃\u001b[1m \u001b[0m\u001b[1mLayer (type)                        \u001b[0m\u001b[1m \u001b[0m┃\u001b[1m \u001b[0m\u001b[1mOutput Shape               \u001b[0m\u001b[1m \u001b[0m┃\u001b[1m \u001b[0m\u001b[1m        Param #\u001b[0m\u001b[1m \u001b[0m┃\n",
              "┡━━━━━━━━━━━━━━━━━━━━━━━━━━━━━━━━━━━━━━╇━━━━━━━━━━━━━━━━━━━━━━━━━━━━━╇━━━━━━━━━━━━━━━━━┩\n",
              "│ input_layer (\u001b[38;5;33mInputLayer\u001b[0m)             │ (\u001b[38;5;45mNone\u001b[0m, \u001b[38;5;34m224\u001b[0m, \u001b[38;5;34m224\u001b[0m, \u001b[38;5;34m3\u001b[0m)         │               \u001b[38;5;34m0\u001b[0m │\n",
              "├──────────────────────────────────────┼─────────────────────────────┼─────────────────┤\n",
              "│ efficientnetb0 (\u001b[38;5;33mFunctional\u001b[0m)          │ (\u001b[38;5;45mNone\u001b[0m, \u001b[38;5;34m2\u001b[0m)                   │       \u001b[38;5;34m4,052,133\u001b[0m │\n",
              "└──────────────────────────────────────┴─────────────────────────────┴─────────────────┘\n"
            ],
            "text/html": [
              "<pre style=\"white-space:pre;overflow-x:auto;line-height:normal;font-family:Menlo,'DejaVu Sans Mono',consolas,'Courier New',monospace\">┏━━━━━━━━━━━━━━━━━━━━━━━━━━━━━━━━━━━━━━┳━━━━━━━━━━━━━━━━━━━━━━━━━━━━━┳━━━━━━━━━━━━━━━━━┓\n",
              "┃<span style=\"font-weight: bold\"> Layer (type)                         </span>┃<span style=\"font-weight: bold\"> Output Shape                </span>┃<span style=\"font-weight: bold\">         Param # </span>┃\n",
              "┡━━━━━━━━━━━━━━━━━━━━━━━━━━━━━━━━━━━━━━╇━━━━━━━━━━━━━━━━━━━━━━━━━━━━━╇━━━━━━━━━━━━━━━━━┩\n",
              "│ input_layer (<span style=\"color: #0087ff; text-decoration-color: #0087ff\">InputLayer</span>)             │ (<span style=\"color: #00d7ff; text-decoration-color: #00d7ff\">None</span>, <span style=\"color: #00af00; text-decoration-color: #00af00\">224</span>, <span style=\"color: #00af00; text-decoration-color: #00af00\">224</span>, <span style=\"color: #00af00; text-decoration-color: #00af00\">3</span>)         │               <span style=\"color: #00af00; text-decoration-color: #00af00\">0</span> │\n",
              "├──────────────────────────────────────┼─────────────────────────────┼─────────────────┤\n",
              "│ efficientnetb0 (<span style=\"color: #0087ff; text-decoration-color: #0087ff\">Functional</span>)          │ (<span style=\"color: #00d7ff; text-decoration-color: #00d7ff\">None</span>, <span style=\"color: #00af00; text-decoration-color: #00af00\">2</span>)                   │       <span style=\"color: #00af00; text-decoration-color: #00af00\">4,052,133</span> │\n",
              "└──────────────────────────────────────┴─────────────────────────────┴─────────────────┘\n",
              "</pre>\n"
            ]
          },
          "metadata": {}
        },
        {
          "output_type": "display_data",
          "data": {
            "text/plain": [
              "\u001b[1m Total params: \u001b[0m\u001b[38;5;34m4,052,133\u001b[0m (15.46 MB)\n"
            ],
            "text/html": [
              "<pre style=\"white-space:pre;overflow-x:auto;line-height:normal;font-family:Menlo,'DejaVu Sans Mono',consolas,'Courier New',monospace\"><span style=\"font-weight: bold\"> Total params: </span><span style=\"color: #00af00; text-decoration-color: #00af00\">4,052,133</span> (15.46 MB)\n",
              "</pre>\n"
            ]
          },
          "metadata": {}
        },
        {
          "output_type": "display_data",
          "data": {
            "text/plain": [
              "\u001b[1m Trainable params: \u001b[0m\u001b[38;5;34m4,010,110\u001b[0m (15.30 MB)\n"
            ],
            "text/html": [
              "<pre style=\"white-space:pre;overflow-x:auto;line-height:normal;font-family:Menlo,'DejaVu Sans Mono',consolas,'Courier New',monospace\"><span style=\"font-weight: bold\"> Trainable params: </span><span style=\"color: #00af00; text-decoration-color: #00af00\">4,010,110</span> (15.30 MB)\n",
              "</pre>\n"
            ]
          },
          "metadata": {}
        },
        {
          "output_type": "display_data",
          "data": {
            "text/plain": [
              "\u001b[1m Non-trainable params: \u001b[0m\u001b[38;5;34m42,023\u001b[0m (164.16 KB)\n"
            ],
            "text/html": [
              "<pre style=\"white-space:pre;overflow-x:auto;line-height:normal;font-family:Menlo,'DejaVu Sans Mono',consolas,'Courier New',monospace\"><span style=\"font-weight: bold\"> Non-trainable params: </span><span style=\"color: #00af00; text-decoration-color: #00af00\">42,023</span> (164.16 KB)\n",
              "</pre>\n"
            ]
          },
          "metadata": {}
        },
        {
          "output_type": "stream",
          "name": "stdout",
          "text": [
            "Epoch 1/20\n",
            "\u001b[1m34/34\u001b[0m \u001b[32m━━━━━━━━━━━━━━━━━━━━\u001b[0m\u001b[37m\u001b[0m \u001b[1m142s\u001b[0m 2s/step - accuracy: 0.9278 - loss: 0.9249 - val_accuracy: 0.3667 - val_loss: 14.2537\n",
            "Epoch 2/20\n",
            "\u001b[1m34/34\u001b[0m \u001b[32m━━━━━━━━━━━━━━━━━━━━\u001b[0m\u001b[37m\u001b[0m \u001b[1m42s\u001b[0m 76ms/step - accuracy: 0.9805 - loss: 0.0616 - val_accuracy: 0.3667 - val_loss: 14.3608\n",
            "Epoch 3/20\n",
            "\u001b[1m34/34\u001b[0m \u001b[32m━━━━━━━━━━━━━━━━━━━━\u001b[0m\u001b[37m\u001b[0m \u001b[1m5s\u001b[0m 76ms/step - accuracy: 0.9823 - loss: 0.0620 - val_accuracy: 0.3667 - val_loss: 12.0511\n",
            "Epoch 4/20\n",
            "\u001b[1m34/34\u001b[0m \u001b[32m━━━━━━━━━━━━━━━━━━━━\u001b[0m\u001b[37m\u001b[0m \u001b[1m3s\u001b[0m 81ms/step - accuracy: 0.9872 - loss: 0.0359 - val_accuracy: 0.3667 - val_loss: 12.9554\n",
            "Epoch 5/20\n",
            "\u001b[1m34/34\u001b[0m \u001b[32m━━━━━━━━━━━━━━━━━━━━\u001b[0m\u001b[37m\u001b[0m \u001b[1m3s\u001b[0m 78ms/step - accuracy: 0.9926 - loss: 0.0179 - val_accuracy: 0.3667 - val_loss: 14.9489\n",
            "Epoch 6/20\n",
            "\u001b[1m34/34\u001b[0m \u001b[32m━━━━━━━━━━━━━━━━━━━━\u001b[0m\u001b[37m\u001b[0m \u001b[1m3s\u001b[0m 75ms/step - accuracy: 0.9915 - loss: 0.0550 - val_accuracy: 0.3667 - val_loss: 4.1533\n",
            "Epoch 7/20\n",
            "\u001b[1m34/34\u001b[0m \u001b[32m━━━━━━━━━━━━━━━━━━━━\u001b[0m\u001b[37m\u001b[0m \u001b[1m5s\u001b[0m 74ms/step - accuracy: 0.9945 - loss: 0.0356 - val_accuracy: 0.3833 - val_loss: 5.1351\n",
            "Epoch 8/20\n",
            "\u001b[1m34/34\u001b[0m \u001b[32m━━━━━━━━━━━━━━━━━━━━\u001b[0m\u001b[37m\u001b[0m \u001b[1m5s\u001b[0m 73ms/step - accuracy: 0.9991 - loss: 0.0076 - val_accuracy: 0.3833 - val_loss: 4.9449\n",
            "Epoch 9/20\n",
            "\u001b[1m34/34\u001b[0m \u001b[32m━━━━━━━━━━━━━━━━━━━━\u001b[0m\u001b[37m\u001b[0m \u001b[1m2s\u001b[0m 73ms/step - accuracy: 0.9967 - loss: 0.0065 - val_accuracy: 0.4667 - val_loss: 4.2620\n",
            "Epoch 10/20\n",
            "\u001b[1m34/34\u001b[0m \u001b[32m━━━━━━━━━━━━━━━━━━━━\u001b[0m\u001b[37m\u001b[0m \u001b[1m3s\u001b[0m 73ms/step - accuracy: 0.9954 - loss: 0.0178 - val_accuracy: 0.3667 - val_loss: 8.1338\n",
            "Epoch 11/20\n",
            "\u001b[1m34/34\u001b[0m \u001b[32m━━━━━━━━━━━━━━━━━━━━\u001b[0m\u001b[37m\u001b[0m \u001b[1m3s\u001b[0m 74ms/step - accuracy: 0.9936 - loss: 0.0354 - val_accuracy: 0.7833 - val_loss: 0.3866\n",
            "Epoch 12/20\n",
            "\u001b[1m34/34\u001b[0m \u001b[32m━━━━━━━━━━━━━━━━━━━━\u001b[0m\u001b[37m\u001b[0m \u001b[1m3s\u001b[0m 78ms/step - accuracy: 0.9970 - loss: 0.0245 - val_accuracy: 0.9500 - val_loss: 0.1106\n",
            "Epoch 13/20\n",
            "\u001b[1m34/34\u001b[0m \u001b[32m━━━━━━━━━━━━━━━━━━━━\u001b[0m\u001b[37m\u001b[0m \u001b[1m5s\u001b[0m 73ms/step - accuracy: 1.0000 - loss: 5.1997e-04 - val_accuracy: 0.9500 - val_loss: 0.0617\n",
            "Epoch 14/20\n",
            "\u001b[1m34/34\u001b[0m \u001b[32m━━━━━━━━━━━━━━━━━━━━\u001b[0m\u001b[37m\u001b[0m \u001b[1m3s\u001b[0m 74ms/step - accuracy: 0.9998 - loss: 6.9118e-04 - val_accuracy: 1.0000 - val_loss: 0.0021\n",
            "Epoch 15/20\n",
            "\u001b[1m34/34\u001b[0m \u001b[32m━━━━━━━━━━━━━━━━━━━━\u001b[0m\u001b[37m\u001b[0m \u001b[1m3s\u001b[0m 73ms/step - accuracy: 1.0000 - loss: 0.0016 - val_accuracy: 0.9833 - val_loss: 0.0370\n",
            "Epoch 16/20\n",
            "\u001b[1m34/34\u001b[0m \u001b[32m━━━━━━━━━━━━━━━━━━━━\u001b[0m\u001b[37m\u001b[0m \u001b[1m3s\u001b[0m 81ms/step - accuracy: 1.0000 - loss: 0.0015 - val_accuracy: 1.0000 - val_loss: 0.0014\n",
            "Epoch 17/20\n",
            "\u001b[1m34/34\u001b[0m \u001b[32m━━━━━━━━━━━━━━━━━━━━\u001b[0m\u001b[37m\u001b[0m \u001b[1m5s\u001b[0m 75ms/step - accuracy: 0.9933 - loss: 0.0158 - val_accuracy: 0.9833 - val_loss: 0.1146\n",
            "Epoch 18/20\n",
            "\u001b[1m34/34\u001b[0m \u001b[32m━━━━━━━━━━━━━━━━━━━━\u001b[0m\u001b[37m\u001b[0m \u001b[1m5s\u001b[0m 73ms/step - accuracy: 0.9607 - loss: 0.1664 - val_accuracy: 0.9667 - val_loss: 0.1456\n",
            "Epoch 19/20\n",
            "\u001b[1m34/34\u001b[0m \u001b[32m━━━━━━━━━━━━━━━━━━━━\u001b[0m\u001b[37m\u001b[0m \u001b[1m3s\u001b[0m 79ms/step - accuracy: 1.0000 - loss: 0.0020 - val_accuracy: 0.9833 - val_loss: 0.0282\n",
            "Epoch 20/20\n",
            "\u001b[1m34/34\u001b[0m \u001b[32m━━━━━━━━━━━━━━━━━━━━\u001b[0m\u001b[37m\u001b[0m \u001b[1m3s\u001b[0m 74ms/step - accuracy: 1.0000 - loss: 0.0013 - val_accuracy: 1.0000 - val_loss: 0.0014\n"
          ]
        }
      ]
    },
    {
      "cell_type": "code",
      "source": [
        "test_loss, test_acc = model.evaluate(x_test, y_test)\n",
        "print(\"Test accuracy:\", test_acc)"
      ],
      "metadata": {
        "colab": {
          "base_uri": "https://localhost:8080/"
        },
        "id": "5bcCu_5X0KuS",
        "outputId": "3f0f0370-1b7b-4230-e915-df96e99990b4"
      },
      "execution_count": 16,
      "outputs": [
        {
          "output_type": "stream",
          "name": "stdout",
          "text": [
            "\u001b[1m2/2\u001b[0m \u001b[32m━━━━━━━━━━━━━━━━━━━━\u001b[0m\u001b[37m\u001b[0m \u001b[1m8s\u001b[0m 4s/step - accuracy: 1.0000 - loss: 0.0011    \n",
            "Test accuracy: 1.0\n"
          ]
        }
      ]
    },
    {
      "cell_type": "code",
      "source": [
        "plt.figure(figsize=(12, 4))\n",
        "plt.subplot(121)\n",
        "plt.plot(hist.history['loss'], label='training')\n",
        "plt.plot(hist.history['val_loss'], label='validation')\n",
        "plt.xlabel('epoch')\n",
        "plt.ylabel('loss')\n",
        "plt.legend()\n",
        "\n",
        "plt.subplot(122)\n",
        "plt.plot(hist.history['accuracy'], label='training')\n",
        "plt.plot(hist.history['val_accuracy'], label='validation')\n",
        "plt.xlabel('epoch')\n",
        "plt.ylabel('accuracy')\n",
        "plt.legend()\n",
        "\n",
        "plt.show()"
      ],
      "metadata": {
        "colab": {
          "base_uri": "https://localhost:8080/",
          "height": 388
        },
        "id": "gqW4r4es1lFI",
        "outputId": "f67ca584-e331-4c2a-846d-265b7554d33c"
      },
      "execution_count": 18,
      "outputs": [
        {
          "output_type": "display_data",
          "data": {
            "text/plain": [
              "<Figure size 1200x400 with 2 Axes>"
            ],
            "image/png": "[encoded data removed]"
          },
          "metadata": {}
        }
      ]
    }
  ]
}